{
 "cells": [
  {
   "cell_type": "code",
   "execution_count": 1,
   "id": "80a832bf-ae32-4a26-9fa6-420d2d12ce85",
   "metadata": {},
   "outputs": [],
   "source": [
    "from notion.jupyter_ux import get_client, settings"
   ]
  },
  {
   "cell_type": "code",
   "execution_count": 2,
   "id": "f2aec122-a7a3-4a1e-88c9-a23abc21cf08",
   "metadata": {},
   "outputs": [
    {
     "data": {
      "text/markdown": [
       "## Settings\n",
       "\n",
       "* **settings_file**: /Users/jholbrook/.config/notion/settings.toml\n",
       "* **log_file**: /Users/jholbrook/.local/share/notion/notion.log\n",
       "* **data_directory**: /Users/jholbrook/.local/share/notion\n",
       "* **token**: <unset>\n",
       "* **page**: <unset>\n"
      ],
      "text/plain": [
       "Settings(settings_file=PosixPath('/Users/jholbrook/.config/notion/settings.toml'), log_file=PosixPath('/Users/jholbrook/.local/share/notion/notion.log'), data_directory=PosixPath('/Users/jholbrook/.local/share/notion'), token=None, page=None)"
      ]
     },
     "execution_count": 2,
     "metadata": {},
     "output_type": "execute_result"
    }
   ],
   "source": [
    "settings"
   ]
  },
  {
   "cell_type": "markdown",
   "id": "666a687a-a1fa-4ad0-9b04-2cb989e49b74",
   "metadata": {},
   "source": [
    "Idea: use a trick similar to great expectations for using a jupyter notebook to encode the commands and what they do\n",
    "\n",
    "https://docs.greatexpectations.io/docs/tutorials/getting_started/create_your_first_expectations\n",
    "\n",
    "This idea makes sense if the things I wanna do in notion are generalizable to a DSL but aren't generalizable to the CLI. The user would basically use the jupyter notebook to configure the cli tool and the cli tool would do its thing from there."
   ]
  },
  {
   "cell_type": "code",
   "execution_count": 3,
   "id": "6a8509f6-c35e-4172-91fa-e8cea7d4a00a",
   "metadata": {},
   "outputs": [
    {
     "ename": "SettingsError",
     "evalue": "Missing notion token",
     "output_type": "error",
     "traceback": [
      "\u001b[0;31m---------------------------------------------------------------------------\u001b[0m",
      "\u001b[0;31mSettingsError\u001b[0m                             Traceback (most recent call last)",
      "\u001b[0;32m/var/folders/bd/c6frl46s7rn76q59vnqp7mg40000gp/T/ipykernel_82078/3038268675.py\u001b[0m in \u001b[0;36m<module>\u001b[0;34m\u001b[0m\n\u001b[0;32m----> 1\u001b[0;31m \u001b[0mclient\u001b[0m \u001b[0;34m=\u001b[0m \u001b[0mget_client\u001b[0m\u001b[0;34m(\u001b[0m\u001b[0;34m)\u001b[0m\u001b[0;34m\u001b[0m\u001b[0;34m\u001b[0m\u001b[0m\n\u001b[0m",
      "\u001b[0;32m~/Software/jfhbrook/notion-tools/notion/jupyter_ux.py\u001b[0m in \u001b[0;36mget_client\u001b[0;34m()\u001b[0m\n\u001b[1;32m      6\u001b[0m \u001b[0;34m\u001b[0m\u001b[0m\n\u001b[1;32m      7\u001b[0m \u001b[0;32mdef\u001b[0m \u001b[0mget_client\u001b[0m\u001b[0;34m(\u001b[0m\u001b[0;34m)\u001b[0m\u001b[0;34m:\u001b[0m\u001b[0;34m\u001b[0m\u001b[0;34m\u001b[0m\u001b[0m\n\u001b[0;32m----> 8\u001b[0;31m     \u001b[0;32mreturn\u001b[0m \u001b[0mctx\u001b[0m\u001b[0;34m.\u001b[0m\u001b[0mget_client\u001b[0m\u001b[0;34m(\u001b[0m\u001b[0;34m)\u001b[0m\u001b[0;34m\u001b[0m\u001b[0;34m\u001b[0m\u001b[0m\n\u001b[0m",
      "\u001b[0;32m~/Software/jfhbrook/notion-tools/notion/ctx.py\u001b[0m in \u001b[0;36mget_client\u001b[0;34m(self)\u001b[0m\n\u001b[1;32m     10\u001b[0m     \u001b[0;32mdef\u001b[0m \u001b[0mget_client\u001b[0m\u001b[0;34m(\u001b[0m\u001b[0mself\u001b[0m\u001b[0;34m)\u001b[0m\u001b[0;34m:\u001b[0m\u001b[0;34m\u001b[0m\u001b[0;34m\u001b[0m\u001b[0m\n\u001b[1;32m     11\u001b[0m         \u001b[0;32mif\u001b[0m \u001b[0;32mnot\u001b[0m \u001b[0mself\u001b[0m\u001b[0;34m.\u001b[0m\u001b[0m_client\u001b[0m\u001b[0;34m:\u001b[0m\u001b[0;34m\u001b[0m\u001b[0;34m\u001b[0m\u001b[0m\n\u001b[0;32m---> 12\u001b[0;31m             \u001b[0mself\u001b[0m\u001b[0;34m.\u001b[0m\u001b[0msettings\u001b[0m\u001b[0;34m.\u001b[0m\u001b[0mvalidate\u001b[0m\u001b[0;34m(\u001b[0m\u001b[0;34m)\u001b[0m\u001b[0;34m\u001b[0m\u001b[0;34m\u001b[0m\u001b[0m\n\u001b[0m\u001b[1;32m     13\u001b[0m             \u001b[0mself\u001b[0m\u001b[0;34m.\u001b[0m\u001b[0m_client\u001b[0m \u001b[0;34m=\u001b[0m \u001b[0mNotionClient\u001b[0m\u001b[0;34m(\u001b[0m\u001b[0mtoken_v2\u001b[0m\u001b[0;34m=\u001b[0m\u001b[0mself\u001b[0m\u001b[0;34m.\u001b[0m\u001b[0msettings\u001b[0m\u001b[0;34m.\u001b[0m\u001b[0mtoken\u001b[0m\u001b[0;34m,\u001b[0m \u001b[0mmonitor\u001b[0m\u001b[0;34m=\u001b[0m\u001b[0;32mFalse\u001b[0m\u001b[0;34m)\u001b[0m\u001b[0;34m\u001b[0m\u001b[0;34m\u001b[0m\u001b[0m\n\u001b[1;32m     14\u001b[0m         \u001b[0;32mreturn\u001b[0m \u001b[0mself\u001b[0m\u001b[0;34m.\u001b[0m\u001b[0m_client\u001b[0m\u001b[0;34m\u001b[0m\u001b[0;34m\u001b[0m\u001b[0m\n",
      "\u001b[0;32m~/Software/jfhbrook/notion-tools/notion/settings.py\u001b[0m in \u001b[0;36mvalidate\u001b[0;34m(self)\u001b[0m\n\u001b[1;32m     73\u001b[0m     \u001b[0;32mdef\u001b[0m \u001b[0mvalidate\u001b[0m\u001b[0;34m(\u001b[0m\u001b[0mself\u001b[0m\u001b[0;34m)\u001b[0m\u001b[0;34m:\u001b[0m\u001b[0;34m\u001b[0m\u001b[0;34m\u001b[0m\u001b[0m\n\u001b[1;32m     74\u001b[0m         \u001b[0;32mif\u001b[0m \u001b[0;32mnot\u001b[0m \u001b[0mself\u001b[0m\u001b[0;34m.\u001b[0m\u001b[0mtoken\u001b[0m\u001b[0;34m:\u001b[0m\u001b[0;34m\u001b[0m\u001b[0;34m\u001b[0m\u001b[0m\n\u001b[0;32m---> 75\u001b[0;31m             \u001b[0;32mraise\u001b[0m \u001b[0mSettingsError\u001b[0m\u001b[0;34m(\u001b[0m\u001b[0;34m\"Missing notion token\"\u001b[0m\u001b[0;34m)\u001b[0m\u001b[0;34m\u001b[0m\u001b[0;34m\u001b[0m\u001b[0m\n\u001b[0m\u001b[1;32m     76\u001b[0m         \u001b[0;32mif\u001b[0m \u001b[0;32mnot\u001b[0m \u001b[0mself\u001b[0m\u001b[0;34m.\u001b[0m\u001b[0mpage\u001b[0m\u001b[0;34m:\u001b[0m\u001b[0;34m\u001b[0m\u001b[0;34m\u001b[0m\u001b[0m\n\u001b[1;32m     77\u001b[0m             \u001b[0;32mraise\u001b[0m \u001b[0mSettingsError\u001b[0m\u001b[0;34m(\u001b[0m\u001b[0;34m\"Missing notion page\"\u001b[0m\u001b[0;34m)\u001b[0m\u001b[0;34m\u001b[0m\u001b[0;34m\u001b[0m\u001b[0m\n",
      "\u001b[0;31mSettingsError\u001b[0m: Missing notion token"
     ]
    }
   ],
   "source": [
    "client = get_client()"
   ]
  },
  {
   "cell_type": "code",
   "execution_count": null,
   "id": "b09c7d2c-a5c0-4df1-87a0-5c1e233fefd1",
   "metadata": {},
   "outputs": [],
   "source": [
    "def get_page(url):\n",
    "    return client.get_block(url)"
   ]
  },
  {
   "cell_type": "code",
   "execution_count": null,
   "id": "1e77aef7-9c00-449c-bb92-8532fd04eff5",
   "metadata": {},
   "outputs": [],
   "source": [
    "engineering_home = get_page(\"https://www.notion.so/eaze/Engineering-06e03e20a5174e8c87529f67d18a2e7e\")"
   ]
  },
  {
   "cell_type": "code",
   "execution_count": null,
   "id": "7e5eab44-67a5-4779-b904-cad9142cecd6",
   "metadata": {},
   "outputs": [],
   "source": [
    "# ALL of these break in the notion client\n",
    "# I suspect they have blocknode types the client doesn't know what to do with - I'll have to fork it, sigh\n",
    "\n",
    "# consumer_mobile_home = get_page(\"https://www.notion.so/eaze/Consumer-Mobile-b41e1b6ffaee4301a8709ec27181290c\")\n",
    "# consumer_mobile_sprints = get_page(\"https://www.notion.so/eaze/34a1012c3db0405eb2a473a86bf619a3\") # ?v=add7ad350fc14ac292314982fb4efa86\")\n",
    "# consumer_mobile_sprint_6 = get_page(\"https://www.notion.so/eaze/Sprint-6-5256e5ed8768487b86e750805a6a496a\")\n",
    "# fulfillment_backlog = get_page(\"https://www.notion.so/eaze/5568a14e25f94cbf9d82a23dc5f4cd21\")\n",
    "# interview_questions_wiki_page = get_page(\"https://www.notion.so/eaze/Staff-Eng-communication-8c4a554ceb5d4592b32138a71c5b3b03\")"
   ]
  },
  {
   "cell_type": "code",
   "execution_count": null,
   "id": "3affadfe-e9c6-4c3d-904c-d7cabee483c1",
   "metadata": {},
   "outputs": [],
   "source": [
    "# Yeah, that's exactly what's happening\n",
    "engineering_home.children"
   ]
  },
  {
   "cell_type": "code",
   "execution_count": null,
   "id": "8605852e-a428-4824-bd58-ccd6c4bbcfef",
   "metadata": {},
   "outputs": [],
   "source": []
  }
 ],
 "metadata": {
  "kernelspec": {
   "display_name": "Python 3 (ipykernel)",
   "language": "python",
   "name": "python3"
  },
  "language_info": {
   "codemirror_mode": {
    "name": "ipython",
    "version": 3
   },
   "file_extension": ".py",
   "mimetype": "text/x-python",
   "name": "python",
   "nbconvert_exporter": "python",
   "pygments_lexer": "ipython3",
   "version": "3.8.8"
  }
 },
 "nbformat": 4,
 "nbformat_minor": 5
}
