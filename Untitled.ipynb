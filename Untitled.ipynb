{
 "cells": [
  {
   "cell_type": "code",
   "execution_count": 1,
   "id": "80a832bf-ae32-4a26-9fa6-420d2d12ce85",
   "metadata": {},
   "outputs": [],
   "source": [
    "from notion.jupyter_ux import get_client, settings"
   ]
  },
  {
   "cell_type": "code",
   "execution_count": 2,
   "id": "f2aec122-a7a3-4a1e-88c9-a23abc21cf08",
   "metadata": {},
   "outputs": [
    {
     "data": {
      "application/vnd.jupyter.widget-view+json": {
       "model_id": "bc0dab2b7e6f4adf9187067d4805ca3a",
       "version_major": 2,
       "version_minor": 0
      },
      "text/plain": [
       "Box(children=(Label(value='Settings'), Password(description='token:'), Text(value='https://www.notion.so/eaze/…"
      ]
     },
     "metadata": {},
     "output_type": "display_data"
    }
   ],
   "source": [
    "settings()"
   ]
  },
  {
   "cell_type": "markdown",
   "id": "666a687a-a1fa-4ad0-9b04-2cb989e49b74",
   "metadata": {},
   "source": [
    "Idea: use a trick similar to great expectations for using a jupyter notebook to encode the commands and what they do\n",
    "\n",
    "https://docs.greatexpectations.io/docs/tutorials/getting_started/create_your_first_expectations\n",
    "\n",
    "This idea makes sense if the things I wanna do in notion are generalizable to a DSL but aren't generalizable to the CLI. The user would basically use the jupyter notebook to configure the cli tool and the cli tool would do its thing from there."
   ]
  },
  {
   "cell_type": "code",
   "execution_count": 3,
   "id": "6a8509f6-c35e-4172-91fa-e8cea7d4a00a",
   "metadata": {},
   "outputs": [],
   "source": [
    "client = get_client()"
   ]
  },
  {
   "cell_type": "code",
   "execution_count": 4,
   "id": "b09c7d2c-a5c0-4df1-87a0-5c1e233fefd1",
   "metadata": {},
   "outputs": [],
   "source": [
    "def get_page(url):\n",
    "    return client.get_block(url)"
   ]
  },
  {
   "cell_type": "code",
   "execution_count": 5,
   "id": "1e77aef7-9c00-449c-bb92-8532fd04eff5",
   "metadata": {},
   "outputs": [],
   "source": [
    "engineering_home = get_page(\"https://www.notion.so/eaze/Engineering-06e03e20a5174e8c87529f67d18a2e7e\")"
   ]
  },
  {
   "cell_type": "code",
   "execution_count": 6,
   "id": "7e5eab44-67a5-4779-b904-cad9142cecd6",
   "metadata": {},
   "outputs": [],
   "source": [
    "# ALL of these break in the notion client\n",
    "# I suspect they have blocknode types the client doesn't know what to do with - I'll have to fork it, sigh\n",
    "\n",
    "# consumer_mobile_home = get_page(\"https://www.notion.so/eaze/Consumer-Mobile-b41e1b6ffaee4301a8709ec27181290c\")\n",
    "# consumer_mobile_sprints = get_page(\"https://www.notion.so/eaze/34a1012c3db0405eb2a473a86bf619a3\") # ?v=add7ad350fc14ac292314982fb4efa86\")\n",
    "# consumer_mobile_sprint_6 = get_page(\"https://www.notion.so/eaze/Sprint-6-5256e5ed8768487b86e750805a6a496a\")\n",
    "# fulfillment_backlog = get_page(\"https://www.notion.so/eaze/5568a14e25f94cbf9d82a23dc5f4cd21\")\n",
    "# interview_questions_wiki_page = get_page(\"https://www.notion.so/eaze/Staff-Eng-communication-8c4a554ceb5d4592b32138a71c5b3b03\")"
   ]
  },
  {
   "cell_type": "code",
   "execution_count": 7,
   "id": "3affadfe-e9c6-4c3d-904c-d7cabee483c1",
   "metadata": {},
   "outputs": [
    {
     "data": {
      "text/plain": [
       "[\n",
       "  <SubheaderBlock (id='d023d098-545f-47ce-b474-cae1e8697111', title='Teams')>,\n",
       "  <PageBlock (id='b41e1b6f-faee-4301-a870-9ec27181290c', title='Consumer Mobile')>,\n",
       "  <PageBlock (id='15658353-f047-4895-8153-221970d8a0d7', title='Consumer Web')>,\n",
       "  <SubheaderBlock (id='c83418da-88ca-4842-9f4b-df2d1efae54e', title='Groups/Guilds')>,\n",
       "  <PageBlock (id='2312fcb8-3256-4e03-b925-95cccac58224', title='Surfaces: UI/Frontend/Mobile')>,\n",
       "  <PageBlock (id='ded60b8b-e999-4f22-bb69-2cebb1a1cfdc', title='Order Processing: Fulfillment, Packer, Driver, Dispensary Admin')>,\n",
       "  <SubheaderBlock (id='864bf85d-5c49-4e07-836f-e79599c4606f', title='Tools')>,\n",
       "  <PageBlock (id='593f4255-05f3-4827-8150-1cc30c830736', title='Interview Questions: A Glossary')>,\n",
       "  <TextBlock (id='3649d4f6-b176-4937-8f46-db85fd157858')>,\n",
       "  <PageBlock (id='085c5370-209d-4df3-aae7-c643b2a5f5df', title='Ops Tech Mobile')>,\n",
       "  <TextBlock (id='f43f96a3-7b18-433c-820c-dc09e7b8bd8f')>,\n",
       "  <PageBlock (id='87ee6a14-8945-4c0c-9059-1a2bec3ffbc5', title='Engineering Reorganization 2022')>,\n",
       "  <PageBlock (id='0c38e7bd-b149-4133-89c8-7c658ac9e5bc', title='ADR For Push Notifications in Dispensary Dashboard')>,\n",
       "  <PageBlock (id='8363dab3-77e2-4f78-b64c-72003a7a748b', title='Akshay scratch')>,\n",
       "]"
      ]
     },
     "execution_count": 7,
     "metadata": {},
     "output_type": "execute_result"
    }
   ],
   "source": [
    "# Yeah, that's exactly what's happening\n",
    "engineering_home.children"
   ]
  },
  {
   "cell_type": "code",
   "execution_count": null,
   "id": "8605852e-a428-4824-bd58-ccd6c4bbcfef",
   "metadata": {},
   "outputs": [],
   "source": []
  }
 ],
 "metadata": {
  "kernelspec": {
   "display_name": "Python 3 (ipykernel)",
   "language": "python",
   "name": "python3"
  },
  "language_info": {
   "codemirror_mode": {
    "name": "ipython",
    "version": 3
   },
   "file_extension": ".py",
   "mimetype": "text/x-python",
   "name": "python",
   "nbconvert_exporter": "python",
   "pygments_lexer": "ipython3",
   "version": "3.8.8"
  }
 },
 "nbformat": 4,
 "nbformat_minor": 5
}
